{
 "cells": [
  {
   "cell_type": "markdown",
   "id": "9c509010-bd09-48d2-8596-41de09d3ebf1",
   "metadata": {
    "tags": []
   },
   "source": [
    "## Import Libraries"
   ]
  },
  {
   "cell_type": "code",
   "execution_count": 4,
   "id": "156fead0-0296-49ba-8ba2-dfcc91428a44",
   "metadata": {},
   "outputs": [],
   "source": [
    "import numpy as np\n",
    "import pandas as pd\n",
    "import scipy.stats as stats\n",
    "from pandas import DataFrame\n",
    "from sklearn.preprocessing import scale\n",
    "from sklearn.decomposition import PCA"
   ]
  },
  {
   "cell_type": "markdown",
   "id": "0fec22ea-20fe-49ef-9ba0-deacd3c1579b",
   "metadata": {},
   "source": [
    "## Read Data Set from CSV and Verify"
   ]
  },
  {
   "cell_type": "code",
   "execution_count": 5,
   "id": "7513379a-ead9-490a-af16-2b7f44d4fd39",
   "metadata": {},
   "outputs": [
    {
     "ename": "FileNotFoundError",
     "evalue": "[Errno 2] No such file or directory: 'medical_raw_data.csv'",
     "output_type": "error",
     "traceback": [
      "\u001b[0;31m---------------------------------------------------------------------------\u001b[0m",
      "\u001b[0;31mFileNotFoundError\u001b[0m                         Traceback (most recent call last)",
      "\u001b[0;32m<ipython-input-5-afeb7c95190e>\u001b[0m in \u001b[0;36m<module>\u001b[0;34m\u001b[0m\n\u001b[0;32m----> 1\u001b[0;31m \u001b[0mmed_df\u001b[0m \u001b[0;34m=\u001b[0m \u001b[0mpd\u001b[0m\u001b[0;34m.\u001b[0m\u001b[0mread_csv\u001b[0m\u001b[0;34m(\u001b[0m\u001b[0;34m'medical_raw_data.csv'\u001b[0m\u001b[0;34m)\u001b[0m\u001b[0;34m\u001b[0m\u001b[0;34m\u001b[0m\u001b[0m\n\u001b[0m",
      "\u001b[0;32m~/opt/anaconda3/lib/python3.7/site-packages/pandas/io/parsers.py\u001b[0m in \u001b[0;36mread_csv\u001b[0;34m(filepath_or_buffer, sep, delimiter, header, names, index_col, usecols, squeeze, prefix, mangle_dupe_cols, dtype, engine, converters, true_values, false_values, skipinitialspace, skiprows, skipfooter, nrows, na_values, keep_default_na, na_filter, verbose, skip_blank_lines, parse_dates, infer_datetime_format, keep_date_col, date_parser, dayfirst, cache_dates, iterator, chunksize, compression, thousands, decimal, lineterminator, quotechar, quoting, doublequote, escapechar, comment, encoding, dialect, error_bad_lines, warn_bad_lines, delim_whitespace, low_memory, memory_map, float_precision, storage_options)\u001b[0m\n\u001b[1;32m    608\u001b[0m     \u001b[0mkwds\u001b[0m\u001b[0;34m.\u001b[0m\u001b[0mupdate\u001b[0m\u001b[0;34m(\u001b[0m\u001b[0mkwds_defaults\u001b[0m\u001b[0;34m)\u001b[0m\u001b[0;34m\u001b[0m\u001b[0;34m\u001b[0m\u001b[0m\n\u001b[1;32m    609\u001b[0m \u001b[0;34m\u001b[0m\u001b[0m\n\u001b[0;32m--> 610\u001b[0;31m     \u001b[0;32mreturn\u001b[0m \u001b[0m_read\u001b[0m\u001b[0;34m(\u001b[0m\u001b[0mfilepath_or_buffer\u001b[0m\u001b[0;34m,\u001b[0m \u001b[0mkwds\u001b[0m\u001b[0;34m)\u001b[0m\u001b[0;34m\u001b[0m\u001b[0;34m\u001b[0m\u001b[0m\n\u001b[0m\u001b[1;32m    611\u001b[0m \u001b[0;34m\u001b[0m\u001b[0m\n\u001b[1;32m    612\u001b[0m \u001b[0;34m\u001b[0m\u001b[0m\n",
      "\u001b[0;32m~/opt/anaconda3/lib/python3.7/site-packages/pandas/io/parsers.py\u001b[0m in \u001b[0;36m_read\u001b[0;34m(filepath_or_buffer, kwds)\u001b[0m\n\u001b[1;32m    460\u001b[0m \u001b[0;34m\u001b[0m\u001b[0m\n\u001b[1;32m    461\u001b[0m     \u001b[0;31m# Create the parser.\u001b[0m\u001b[0;34m\u001b[0m\u001b[0;34m\u001b[0m\u001b[0;34m\u001b[0m\u001b[0m\n\u001b[0;32m--> 462\u001b[0;31m     \u001b[0mparser\u001b[0m \u001b[0;34m=\u001b[0m \u001b[0mTextFileReader\u001b[0m\u001b[0;34m(\u001b[0m\u001b[0mfilepath_or_buffer\u001b[0m\u001b[0;34m,\u001b[0m \u001b[0;34m**\u001b[0m\u001b[0mkwds\u001b[0m\u001b[0;34m)\u001b[0m\u001b[0;34m\u001b[0m\u001b[0;34m\u001b[0m\u001b[0m\n\u001b[0m\u001b[1;32m    463\u001b[0m \u001b[0;34m\u001b[0m\u001b[0m\n\u001b[1;32m    464\u001b[0m     \u001b[0;32mif\u001b[0m \u001b[0mchunksize\u001b[0m \u001b[0;32mor\u001b[0m \u001b[0miterator\u001b[0m\u001b[0;34m:\u001b[0m\u001b[0;34m\u001b[0m\u001b[0;34m\u001b[0m\u001b[0m\n",
      "\u001b[0;32m~/opt/anaconda3/lib/python3.7/site-packages/pandas/io/parsers.py\u001b[0m in \u001b[0;36m__init__\u001b[0;34m(self, f, engine, **kwds)\u001b[0m\n\u001b[1;32m    817\u001b[0m             \u001b[0mself\u001b[0m\u001b[0;34m.\u001b[0m\u001b[0moptions\u001b[0m\u001b[0;34m[\u001b[0m\u001b[0;34m\"has_index_names\"\u001b[0m\u001b[0;34m]\u001b[0m \u001b[0;34m=\u001b[0m \u001b[0mkwds\u001b[0m\u001b[0;34m[\u001b[0m\u001b[0;34m\"has_index_names\"\u001b[0m\u001b[0;34m]\u001b[0m\u001b[0;34m\u001b[0m\u001b[0;34m\u001b[0m\u001b[0m\n\u001b[1;32m    818\u001b[0m \u001b[0;34m\u001b[0m\u001b[0m\n\u001b[0;32m--> 819\u001b[0;31m         \u001b[0mself\u001b[0m\u001b[0;34m.\u001b[0m\u001b[0m_engine\u001b[0m \u001b[0;34m=\u001b[0m \u001b[0mself\u001b[0m\u001b[0;34m.\u001b[0m\u001b[0m_make_engine\u001b[0m\u001b[0;34m(\u001b[0m\u001b[0mself\u001b[0m\u001b[0;34m.\u001b[0m\u001b[0mengine\u001b[0m\u001b[0;34m)\u001b[0m\u001b[0;34m\u001b[0m\u001b[0;34m\u001b[0m\u001b[0m\n\u001b[0m\u001b[1;32m    820\u001b[0m \u001b[0;34m\u001b[0m\u001b[0m\n\u001b[1;32m    821\u001b[0m     \u001b[0;32mdef\u001b[0m \u001b[0mclose\u001b[0m\u001b[0;34m(\u001b[0m\u001b[0mself\u001b[0m\u001b[0;34m)\u001b[0m\u001b[0;34m:\u001b[0m\u001b[0;34m\u001b[0m\u001b[0;34m\u001b[0m\u001b[0m\n",
      "\u001b[0;32m~/opt/anaconda3/lib/python3.7/site-packages/pandas/io/parsers.py\u001b[0m in \u001b[0;36m_make_engine\u001b[0;34m(self, engine)\u001b[0m\n\u001b[1;32m   1048\u001b[0m             )\n\u001b[1;32m   1049\u001b[0m         \u001b[0;31m# error: Too many arguments for \"ParserBase\"\u001b[0m\u001b[0;34m\u001b[0m\u001b[0;34m\u001b[0m\u001b[0;34m\u001b[0m\u001b[0m\n\u001b[0;32m-> 1050\u001b[0;31m         \u001b[0;32mreturn\u001b[0m \u001b[0mmapping\u001b[0m\u001b[0;34m[\u001b[0m\u001b[0mengine\u001b[0m\u001b[0;34m]\u001b[0m\u001b[0;34m(\u001b[0m\u001b[0mself\u001b[0m\u001b[0;34m.\u001b[0m\u001b[0mf\u001b[0m\u001b[0;34m,\u001b[0m \u001b[0;34m**\u001b[0m\u001b[0mself\u001b[0m\u001b[0;34m.\u001b[0m\u001b[0moptions\u001b[0m\u001b[0;34m)\u001b[0m  \u001b[0;31m# type: ignore[call-arg]\u001b[0m\u001b[0;34m\u001b[0m\u001b[0;34m\u001b[0m\u001b[0m\n\u001b[0m\u001b[1;32m   1051\u001b[0m \u001b[0;34m\u001b[0m\u001b[0m\n\u001b[1;32m   1052\u001b[0m     \u001b[0;32mdef\u001b[0m \u001b[0m_failover_to_python\u001b[0m\u001b[0;34m(\u001b[0m\u001b[0mself\u001b[0m\u001b[0;34m)\u001b[0m\u001b[0;34m:\u001b[0m\u001b[0;34m\u001b[0m\u001b[0;34m\u001b[0m\u001b[0m\n",
      "\u001b[0;32m~/opt/anaconda3/lib/python3.7/site-packages/pandas/io/parsers.py\u001b[0m in \u001b[0;36m__init__\u001b[0;34m(self, src, **kwds)\u001b[0m\n\u001b[1;32m   1865\u001b[0m \u001b[0;34m\u001b[0m\u001b[0m\n\u001b[1;32m   1866\u001b[0m         \u001b[0;31m# open handles\u001b[0m\u001b[0;34m\u001b[0m\u001b[0;34m\u001b[0m\u001b[0;34m\u001b[0m\u001b[0m\n\u001b[0;32m-> 1867\u001b[0;31m         \u001b[0mself\u001b[0m\u001b[0;34m.\u001b[0m\u001b[0m_open_handles\u001b[0m\u001b[0;34m(\u001b[0m\u001b[0msrc\u001b[0m\u001b[0;34m,\u001b[0m \u001b[0mkwds\u001b[0m\u001b[0;34m)\u001b[0m\u001b[0;34m\u001b[0m\u001b[0;34m\u001b[0m\u001b[0m\n\u001b[0m\u001b[1;32m   1868\u001b[0m         \u001b[0;32massert\u001b[0m \u001b[0mself\u001b[0m\u001b[0;34m.\u001b[0m\u001b[0mhandles\u001b[0m \u001b[0;32mis\u001b[0m \u001b[0;32mnot\u001b[0m \u001b[0;32mNone\u001b[0m\u001b[0;34m\u001b[0m\u001b[0;34m\u001b[0m\u001b[0m\n\u001b[1;32m   1869\u001b[0m         \u001b[0;32mfor\u001b[0m \u001b[0mkey\u001b[0m \u001b[0;32min\u001b[0m \u001b[0;34m(\u001b[0m\u001b[0;34m\"storage_options\"\u001b[0m\u001b[0;34m,\u001b[0m \u001b[0;34m\"encoding\"\u001b[0m\u001b[0;34m,\u001b[0m \u001b[0;34m\"memory_map\"\u001b[0m\u001b[0;34m,\u001b[0m \u001b[0;34m\"compression\"\u001b[0m\u001b[0;34m)\u001b[0m\u001b[0;34m:\u001b[0m\u001b[0;34m\u001b[0m\u001b[0;34m\u001b[0m\u001b[0m\n",
      "\u001b[0;32m~/opt/anaconda3/lib/python3.7/site-packages/pandas/io/parsers.py\u001b[0m in \u001b[0;36m_open_handles\u001b[0;34m(self, src, kwds)\u001b[0m\n\u001b[1;32m   1366\u001b[0m             \u001b[0mcompression\u001b[0m\u001b[0;34m=\u001b[0m\u001b[0mkwds\u001b[0m\u001b[0;34m.\u001b[0m\u001b[0mget\u001b[0m\u001b[0;34m(\u001b[0m\u001b[0;34m\"compression\"\u001b[0m\u001b[0;34m,\u001b[0m \u001b[0;32mNone\u001b[0m\u001b[0;34m)\u001b[0m\u001b[0;34m,\u001b[0m\u001b[0;34m\u001b[0m\u001b[0;34m\u001b[0m\u001b[0m\n\u001b[1;32m   1367\u001b[0m             \u001b[0mmemory_map\u001b[0m\u001b[0;34m=\u001b[0m\u001b[0mkwds\u001b[0m\u001b[0;34m.\u001b[0m\u001b[0mget\u001b[0m\u001b[0;34m(\u001b[0m\u001b[0;34m\"memory_map\"\u001b[0m\u001b[0;34m,\u001b[0m \u001b[0;32mFalse\u001b[0m\u001b[0;34m)\u001b[0m\u001b[0;34m,\u001b[0m\u001b[0;34m\u001b[0m\u001b[0;34m\u001b[0m\u001b[0m\n\u001b[0;32m-> 1368\u001b[0;31m             \u001b[0mstorage_options\u001b[0m\u001b[0;34m=\u001b[0m\u001b[0mkwds\u001b[0m\u001b[0;34m.\u001b[0m\u001b[0mget\u001b[0m\u001b[0;34m(\u001b[0m\u001b[0;34m\"storage_options\"\u001b[0m\u001b[0;34m,\u001b[0m \u001b[0;32mNone\u001b[0m\u001b[0;34m)\u001b[0m\u001b[0;34m,\u001b[0m\u001b[0;34m\u001b[0m\u001b[0;34m\u001b[0m\u001b[0m\n\u001b[0m\u001b[1;32m   1369\u001b[0m         )\n\u001b[1;32m   1370\u001b[0m \u001b[0;34m\u001b[0m\u001b[0m\n",
      "\u001b[0;32m~/opt/anaconda3/lib/python3.7/site-packages/pandas/io/common.py\u001b[0m in \u001b[0;36mget_handle\u001b[0;34m(path_or_buf, mode, encoding, compression, memory_map, is_text, errors, storage_options)\u001b[0m\n\u001b[1;32m    645\u001b[0m                 \u001b[0mencoding\u001b[0m\u001b[0;34m=\u001b[0m\u001b[0mioargs\u001b[0m\u001b[0;34m.\u001b[0m\u001b[0mencoding\u001b[0m\u001b[0;34m,\u001b[0m\u001b[0;34m\u001b[0m\u001b[0;34m\u001b[0m\u001b[0m\n\u001b[1;32m    646\u001b[0m                 \u001b[0merrors\u001b[0m\u001b[0;34m=\u001b[0m\u001b[0merrors\u001b[0m\u001b[0;34m,\u001b[0m\u001b[0;34m\u001b[0m\u001b[0;34m\u001b[0m\u001b[0m\n\u001b[0;32m--> 647\u001b[0;31m                 \u001b[0mnewline\u001b[0m\u001b[0;34m=\u001b[0m\u001b[0;34m\"\"\u001b[0m\u001b[0;34m,\u001b[0m\u001b[0;34m\u001b[0m\u001b[0;34m\u001b[0m\u001b[0m\n\u001b[0m\u001b[1;32m    648\u001b[0m             )\n\u001b[1;32m    649\u001b[0m         \u001b[0;32melse\u001b[0m\u001b[0;34m:\u001b[0m\u001b[0;34m\u001b[0m\u001b[0;34m\u001b[0m\u001b[0m\n",
      "\u001b[0;31mFileNotFoundError\u001b[0m: [Errno 2] No such file or directory: 'medical_raw_data.csv'"
     ]
    }
   ],
   "source": [
    "med_df = pd.read_csv('medical_raw_data.csv')"
   ]
  },
  {
   "cell_type": "markdown",
   "id": "75a1deab-822c-430f-8e5c-ec42e2431531",
   "metadata": {},
   "source": [
    "## Exploration of Data: "
   ]
  },
  {
   "cell_type": "markdown",
   "id": "506e108c-64c5-48c2-b75a-6c4972880c31",
   "metadata": {},
   "source": [
    "### What is the Shape of the DataFrame (Rows & Columns):"
   ]
  },
  {
   "cell_type": "code",
   "execution_count": null,
   "id": "037e3881-423d-4c86-970c-968d6fe16f75",
   "metadata": {},
   "outputs": [],
   "source": [
    "med_df.shape"
   ]
  },
  {
   "cell_type": "markdown",
   "id": "a91ca99f-da9f-474a-8a14-2794eea6b207",
   "metadata": {},
   "source": [
    "### DataFrame Inspection: View Information (Data Types, Index, Column Count, Memory Usage): "
   ]
  },
  {
   "cell_type": "code",
   "execution_count": null,
   "id": "79a33163-5d89-472c-a9ec-bfcbda2a3f90",
   "metadata": {
    "tags": []
   },
   "outputs": [],
   "source": [
    "med_df.info(verbose=True)"
   ]
  },
  {
   "cell_type": "markdown",
   "id": "9b6915ef-38ed-4599-a368-6d87c5df5f3d",
   "metadata": {},
   "source": [
    "### Inspect Start and End of data:"
   ]
  },
  {
   "cell_type": "code",
   "execution_count": null,
   "id": "2a6c99c8-29f0-4e30-9cf3-dd0dcb3db163",
   "metadata": {},
   "outputs": [],
   "source": [
    "med_df.head()"
   ]
  },
  {
   "cell_type": "code",
   "execution_count": null,
   "id": "a78a561d-ee98-4b36-a89e-63a5b73f652e",
   "metadata": {},
   "outputs": [],
   "source": [
    "med_df.tail()"
   ]
  },
  {
   "cell_type": "markdown",
   "id": "09d8919c-0957-4db2-ba3e-b1385abaf2c2",
   "metadata": {},
   "source": [
    "## Detect Missing Data: "
   ]
  },
  {
   "cell_type": "markdown",
   "id": "85f49583-09d6-4051-a421-854ca8025ad8",
   "metadata": {},
   "source": [
    "#### Check if Rows Have Data or Not (True if NA, Nulls, NaN):"
   ]
  },
  {
   "cell_type": "code",
   "execution_count": null,
   "id": "495b204a-c906-48b7-944e-e6c4c7c5762f",
   "metadata": {},
   "outputs": [],
   "source": [
    "med_df.isnull().any()"
   ]
  },
  {
   "cell_type": "markdown",
   "id": "32200a66-d63e-4883-93b3-d0d6c3ff05e4",
   "metadata": {},
   "source": [
    "#### How Many NaNs"
   ]
  },
  {
   "cell_type": "code",
   "execution_count": null,
   "id": "3d3842dd-5d6a-4fd0-b456-1c2f65158937",
   "metadata": {},
   "outputs": [],
   "source": [
    "med_df.isnull().sum()"
   ]
  },
  {
   "cell_type": "markdown",
   "id": "888c5205-db9a-4b4d-8fdd-ac1b6d38d655",
   "metadata": {},
   "source": [
    "#### List Only Columns Containing At Least One Null"
   ]
  },
  {
   "cell_type": "code",
   "execution_count": null,
   "id": "375a607a-a0ec-41e4-98b0-5807fc404b56",
   "metadata": {
    "tags": []
   },
   "outputs": [],
   "source": [
    "med_df.loc[:, med_df.isnull().any()]"
   ]
  },
  {
   "cell_type": "markdown",
   "id": "d0b79735-de97-4a10-9dae-fff57040fab1",
   "metadata": {},
   "source": [
    "#### Any Rows with All Nulls?"
   ]
  },
  {
   "cell_type": "code",
   "execution_count": null,
   "id": "776fd6fd-8fc5-403c-ab16-ba6ff2f809a9",
   "metadata": {},
   "outputs": [],
   "source": [
    "med_df.isnull().all(axis=1).any()"
   ]
  },
  {
   "cell_type": "code",
   "execution_count": null,
   "id": "fbd8371d-d9ee-46f2-b91b-551de868dd74",
   "metadata": {},
   "outputs": [],
   "source": [
    "med_df[med_df.isnull().all(axis=1)]"
   ]
  },
  {
   "cell_type": "markdown",
   "id": "efc1959c-fcf9-4ca2-8b0a-d8d0dd7db26a",
   "metadata": {},
   "source": [
    "### Fill Missing Values and Verify"
   ]
  },
  {
   "cell_type": "code",
   "execution_count": null,
   "id": "41dc32ef-df07-4b23-8b97-75d100e2850e",
   "metadata": {},
   "outputs": [],
   "source": [
    "med_df[['Children', 'Age', 'Income', 'Soft_drink', 'Overweight', 'Anxiety', 'Initial_days']]=med_df[['Children', 'Age', 'Income', 'Soft_drink', 'Overweight', 'Anxiety', 'Initial_days']].fillna(med_df.mean())"
   ]
  },
  {
   "cell_type": "code",
   "execution_count": null,
   "id": "4fbd0483-4474-4d60-a61c-0176fff63740",
   "metadata": {
    "tags": []
   },
   "outputs": [],
   "source": [
    "rows_to_fill = med_df.isnull().any(axis=1)\n",
    "med_df[rows_to_fill]"
   ]
  },
  {
   "cell_type": "markdown",
   "id": "63d70208-abaf-42e5-a9bf-87a1091a93a8",
   "metadata": {
    "tags": []
   },
   "source": [
    "#### Fill Missing Data With Mean"
   ]
  },
  {
   "cell_type": "markdown",
   "id": "218185fa-d2fb-4a8a-8ab7-f8bf5abda550",
   "metadata": {},
   "source": [
    "#### Backfill Soft Drink Series"
   ]
  },
  {
   "cell_type": "code",
   "execution_count": null,
   "id": "88c37e0e-a250-4391-a274-4942d1b1bb80",
   "metadata": {},
   "outputs": [],
   "source": [
    "med_df[['Soft_drink']] = med_df[['Soft_drink']].fillna(method='bfill')"
   ]
  },
  {
   "cell_type": "markdown",
   "id": "4f4174f1-fdfb-4aba-9d90-759c363e607a",
   "metadata": {},
   "source": [
    "#### Verify Missing Values Filled"
   ]
  },
  {
   "cell_type": "code",
   "execution_count": null,
   "id": "ca5cc5a4-1362-4f9e-850f-8e58541a75c8",
   "metadata": {},
   "outputs": [],
   "source": [
    "med_df.loc[:, med_df.isnull().any()]"
   ]
  },
  {
   "cell_type": "markdown",
   "id": "3531fe3f-fed4-4b29-ae84-858790f1e298",
   "metadata": {},
   "source": [
    "#### Verify Nulls are Filled (Different Way)"
   ]
  },
  {
   "cell_type": "code",
   "execution_count": null,
   "id": "01fd747d-07c2-4660-bfd9-dc57a0f7afc6",
   "metadata": {},
   "outputs": [],
   "source": [
    "med_df[['Children', 'Age', 'Income', 'Soft_drink', 'Overweight', 'Anxiety', 'Initial_days']].info()"
   ]
  },
  {
   "cell_type": "code",
   "execution_count": null,
   "id": "ada02351-bc26-4833-abea-ca55092a2cbe",
   "metadata": {},
   "outputs": [],
   "source": [
    "med_df.info()"
   ]
  },
  {
   "cell_type": "markdown",
   "id": "e67ecbe3-d15a-464b-846b-9fbf099dc0ce",
   "metadata": {
    "tags": []
   },
   "source": [
    "### Delete Redundant Column"
   ]
  },
  {
   "cell_type": "code",
   "execution_count": null,
   "id": "32e4b428-8e12-4a4c-985a-dec4c8ee8048",
   "metadata": {
    "tags": []
   },
   "outputs": [],
   "source": [
    "med_df.drop(columns='Unnamed: 0', inplace=True)\n",
    "med_df.head()"
   ]
  },
  {
   "cell_type": "markdown",
   "id": "5f784de8-7f6c-4735-a2da-ddae29604b7f",
   "metadata": {},
   "source": [
    "### Using Boxplots to Help Detect Outliers"
   ]
  },
  {
   "cell_type": "code",
   "execution_count": null,
   "id": "9e5160a2-21d0-4263-ba5c-0d6e887d19d9",
   "metadata": {},
   "outputs": [],
   "source": [
    "med_df.boxplot()"
   ]
  },
  {
   "cell_type": "code",
   "execution_count": null,
   "id": "4fec0c9e-af4e-4338-8f28-f5b0c6d63445",
   "metadata": {
    "tags": []
   },
   "outputs": [],
   "source": [
    "Children_bp = med_df['Children']\n",
    "Children_bp.plot.box()\n",
    "Children_bp.describe()"
   ]
  },
  {
   "cell_type": "code",
   "execution_count": null,
   "id": "89baba43-1967-481c-8cf8-fa0270ca7123",
   "metadata": {
    "tags": []
   },
   "outputs": [],
   "source": [
    "q1 = Children_bp.quantile(.25)\n",
    "q3 = Children_bp.quantile(.75)\n",
    "# set interquartile range \n",
    "iqr = q3 - q1\n",
    "# position whiskers\n",
    "pmin = q1 - 1.5 * iqr\n",
    "pmax = q3 + 1.5 * iqr\n",
    "# Replace outliers w/NaNs rather than remove the whole row\n",
    "children_mean = Children_bp.where(Children_bp.between(pmin, pmax), Children_bp.mean())\n",
    "children_mode = Children_bp.where(Children_bp.between(pmin, pmax), Children_bp.mode())\n",
    "new_children = Children_bp.where(Children_bp.between(pmin, pmax))"
   ]
  },
  {
   "cell_type": "code",
   "execution_count": null,
   "id": "48705b42-4ed7-4533-9756-bc39ef31ebf3",
   "metadata": {
    "tags": []
   },
   "outputs": [],
   "source": [
    "compare = pd.DataFrame({'before':Children_bp, 'NaN':new_children, 'mean':children_mean, 'mode':children_mode})\n",
    "compare.plot.box()\n",
    "compare.describe()"
   ]
  },
  {
   "cell_type": "code",
   "execution_count": null,
   "id": "58da64a8-eaca-48d4-bf65-4a8c830a75cc",
   "metadata": {
    "tags": []
   },
   "outputs": [],
   "source": [
    "Age_bp = med_df['Age']\n",
    "Age_bp.plot.box()\n",
    "Age_bp.describe()"
   ]
  },
  {
   "cell_type": "code",
   "execution_count": null,
   "id": "e7bb791f-1e93-40de-9ac9-0058d87e5c57",
   "metadata": {
    "tags": []
   },
   "outputs": [],
   "source": [
    "q1 = Age_bp.quantile(.25)\n",
    "q3 = Age_bp.quantile(.75)\n",
    "# set interquartile range \n",
    "iqr = q3 - q1\n",
    "# position whiskers\n",
    "pmin = q1 - 1.5 * iqr\n",
    "pmax = q3 + 1.5 * iqr\n",
    "# Replace outliers w/NaNs rather than remove the whole row\n",
    "age_mean = Age_bp.where(Age_bp.between(pmin, pmax), Age_bp.mean())\n",
    "age_mode = Age_bp.where(Age_bp.between(pmin, pmax), Age_bp.mode())\n",
    "new_age = Age_bp.where(Age_bp.between(pmin, pmax))"
   ]
  },
  {
   "cell_type": "code",
   "execution_count": null,
   "id": "d0904281-d363-4d5b-bdf1-31b458a0a27d",
   "metadata": {
    "tags": []
   },
   "outputs": [],
   "source": [
    "compare = pd.DataFrame({'before':Age_bp, 'NaN':new_age, 'mean':age_mean, 'mode':age_mode})\n",
    "compare.plot.box()\n",
    "compare.describe()"
   ]
  },
  {
   "cell_type": "code",
   "execution_count": null,
   "id": "46f31fcb-b681-473d-9f75-9c4cd51b271e",
   "metadata": {
    "tags": []
   },
   "outputs": [],
   "source": [
    "Income_bp = med_df['Income']\n",
    "Income_bp.plot.box()\n",
    "Income_bp.describe()"
   ]
  },
  {
   "cell_type": "code",
   "execution_count": null,
   "id": "df155201-40ca-48ff-98d1-f49baf814f6c",
   "metadata": {},
   "outputs": [],
   "source": [
    "q1 = Income_bp.quantile(.25)\n",
    "q3 = Income_bp.quantile(.75)\n",
    "# set interquartile range \n",
    "iqr = q3 - q1\n",
    "# position whiskers\n",
    "pmin = q1 - 1.5 * iqr\n",
    "pmax = q3 + 1.5 * iqr\n",
    "# Replace outliers w/NaNs rather than remove the whole row\n",
    "income_mean = Income_bp.where(Income_bp.between(pmin, pmax), Income_bp.mean())\n",
    "income_mode = Income_bp.where(Income_bp.between(pmin, pmax), Income_bp.mode())\n",
    "new_income = Income_bp.where(Income_bp.between(pmin, pmax))"
   ]
  },
  {
   "cell_type": "code",
   "execution_count": null,
   "id": "1fc35b6c-dcd0-407f-a9db-b92053fd2438",
   "metadata": {
    "tags": []
   },
   "outputs": [],
   "source": [
    "compare = pd.DataFrame({'before':Income_bp, 'mean':income_mean, 'mode':income_mode, 'NaN':new_income})\n",
    "compare.plot.box()\n",
    "compare.describe()"
   ]
  },
  {
   "cell_type": "code",
   "execution_count": null,
   "id": "5eae260f-15c8-4ddf-a39b-fc652fb4a942",
   "metadata": {
    "tags": []
   },
   "outputs": [],
   "source": [
    "Initial_days_bp = med_df['Initial_days']\n",
    "Initial_days_bp.plot.box()\n",
    "Initial_days_bp.describe()"
   ]
  },
  {
   "cell_type": "code",
   "execution_count": null,
   "id": "5065481c-929a-4e48-9607-1652700261d9",
   "metadata": {},
   "outputs": [],
   "source": [
    "q1 = Initial_days_bp.quantile(.25)\n",
    "q3 = Initial_days_bp.quantile(.75)\n",
    "# set interquartile range \n",
    "iqr = q3 - q1\n",
    "# position whiskers\n",
    "pmin = q1 - 1.5 * iqr\n",
    "pmax = q3 + 1.5 * iqr\n",
    "# Replace outliers w/NaNs rather than remove the whole row\n",
    "initial_days_mean = Initial_days_bp.where(Initial_days_bp.between(pmin, pmax), Initial_days_bp.mean())\n",
    "initial_days_mode = Initial_days_bp.where(Initial_days_bp.between(pmin, pmax), Initial_days_bp.mode())\n",
    "new_initial_days = Initial_days_bp.where(Initial_days_bp.between(pmin, pmax))"
   ]
  },
  {
   "cell_type": "code",
   "execution_count": null,
   "id": "ea08fd1f-86cb-4855-af43-2f66a0fd3690",
   "metadata": {
    "tags": []
   },
   "outputs": [],
   "source": [
    "compare = pd.DataFrame({'before':Initial_days_bp, 'mean':initial_days_mean, 'mode':initial_days_mode, 'NaN':new_initial_days})\n",
    "compare.plot.box()\n",
    "compare.describe()"
   ]
  },
  {
   "cell_type": "markdown",
   "id": "b94a09d0-3400-4241-8944-d44ab88cb8a0",
   "metadata": {},
   "source": [
    "#### Save Changes Perminant "
   ]
  },
  {
   "cell_type": "code",
   "execution_count": null,
   "id": "0e004ac2-83ee-4fa6-9ff5-5f5e70dface5",
   "metadata": {},
   "outputs": [],
   "source": [
    "compare = pd.DataFrame({'Children':med_df['Children'], 'C_mean':children_mean, 'Age':med_df['Age'], 'A_mean':age_mean, 'Income':med_df['Income'], 'I_mean':income_mean, 'Initial_days':med_df['Initial_days'], 'ID_mean':initial_days_mean})\n",
    "compare.plot.box()\n",
    "compare.describe()"
   ]
  },
  {
   "cell_type": "code",
   "execution_count": null,
   "id": "b26eee8b-9349-4b85-930b-c6b30f74dc30",
   "metadata": {},
   "outputs": [],
   "source": [
    "med_df['Children'].mean()"
   ]
  },
  {
   "cell_type": "code",
   "execution_count": null,
   "id": "52548271-f134-43b1-80d1-057081516d44",
   "metadata": {},
   "outputs": [],
   "source": [
    "med_df['Children'] = children_mean"
   ]
  },
  {
   "cell_type": "code",
   "execution_count": null,
   "id": "4a252f88-c81d-4ef0-9907-e8b092e08376",
   "metadata": {},
   "outputs": [],
   "source": [
    "med_df['Children'].mean()"
   ]
  },
  {
   "cell_type": "code",
   "execution_count": null,
   "id": "3330b40a-5273-46d9-b887-d158ebc43671",
   "metadata": {},
   "outputs": [],
   "source": [
    "med_df['Children'].where(Children_bp.between(pmin, pmax), med_df['Children'].mean())\n",
    "med_df['Children'].mean()"
   ]
  },
  {
   "cell_type": "code",
   "execution_count": null,
   "id": "df6c62ee-18c7-44d3-a2e8-b01737fc396b",
   "metadata": {
    "tags": []
   },
   "outputs": [],
   "source": [
    "med_df['Children'] = children_mean\n",
    "med_df['Age'] = age_mean\n",
    "med_df['Income'] = income_mean\n",
    "med_df['Initial_days'] = initial_days_mean"
   ]
  },
  {
   "cell_type": "code",
   "execution_count": null,
   "id": "80dbb8a0-61de-4105-94f6-06b2c14cf955",
   "metadata": {},
   "outputs": [],
   "source": [
    "med_df[['Children', 'Age', 'Income', 'Initial_days']].boxplot()\n",
    "med_df[['Children', 'Age', 'Income', 'Initial_days']].describe()"
   ]
  },
  {
   "cell_type": "code",
   "execution_count": null,
   "id": "36fa395c-f4ef-4452-8a80-007e86ff40ae",
   "metadata": {},
   "outputs": [],
   "source": []
  },
  {
   "cell_type": "code",
   "execution_count": null,
   "id": "6e72ae40-382b-4cd1-b234-1a8b710d5091",
   "metadata": {
    "tags": []
   },
   "outputs": [],
   "source": [
    "Income_bp = med_df['Income']\n",
    "Income_bp.plot.box()\n",
    "Income_bp.describe()"
   ]
  },
  {
   "cell_type": "code",
   "execution_count": null,
   "id": "923dd791-4fe7-4ea8-ba04-4930bbd1c441",
   "metadata": {},
   "outputs": [],
   "source": [
    "med_df.duplicated().any()"
   ]
  },
  {
   "cell_type": "markdown",
   "id": "dcba9fa9-6cc6-4942-ae4d-bd5fb01a62a5",
   "metadata": {
    "tags": []
   },
   "source": [
    "#### Verify Range and Series Counts All Match"
   ]
  },
  {
   "cell_type": "code",
   "execution_count": null,
   "id": "fa6feeb6-7190-4502-ab48-ade3ff807be4",
   "metadata": {},
   "outputs": [],
   "source": [
    "med_df.info()"
   ]
  },
  {
   "cell_type": "markdown",
   "id": "b48f1074-0b40-4e87-bed7-96a560eb580a",
   "metadata": {},
   "source": [
    "## Converting Data Types"
   ]
  },
  {
   "cell_type": "code",
   "execution_count": null,
   "id": "e1b741cc-322f-45ce-97b2-23530fe059d4",
   "metadata": {},
   "outputs": [],
   "source": [
    "med_df[['Overweight', 'Anxiety']].info(verbose=True)"
   ]
  },
  {
   "cell_type": "code",
   "execution_count": null,
   "id": "07cbda15-940f-4cfc-8883-ef53539c5dda",
   "metadata": {},
   "outputs": [],
   "source": [
    "med_df[['Overweight', 'Anxiety']] = med_df[['Overweight', 'Anxiety']].astype(object)"
   ]
  },
  {
   "cell_type": "code",
   "execution_count": null,
   "id": "9c008b4d-2070-49a0-8afc-f877c5e67178",
   "metadata": {
    "tags": []
   },
   "outputs": [],
   "source": [
    "med_df[['Overweight', 'Anxiety']].info(verbose=True)"
   ]
  },
  {
   "cell_type": "markdown",
   "id": "1217ed65-db06-405d-9ed6-046b10de3a39",
   "metadata": {},
   "source": [
    "## Fixing Indices"
   ]
  },
  {
   "cell_type": "markdown",
   "id": "714f178d-dfef-4ae8-93a3-1df64270d5b7",
   "metadata": {},
   "source": [
    "#### Check if UID has any duplicates:"
   ]
  },
  {
   "cell_type": "code",
   "execution_count": null,
   "id": "107a1337-59c9-4b6f-9a55-470378b3352e",
   "metadata": {},
   "outputs": [],
   "source": [
    "med_df[med_df.duplicated('UID')]"
   ]
  },
  {
   "cell_type": "code",
   "execution_count": null,
   "id": "70b93381-1678-47ef-8268-6e5c2e2b1f74",
   "metadata": {},
   "outputs": [],
   "source": [
    "med_df.set_index('UID', drop=True, inplace=True)\n",
    "med_df.head()"
   ]
  },
  {
   "cell_type": "markdown",
   "id": "19358fe3-e54d-4485-a569-0b4b91df9b64",
   "metadata": {},
   "source": [
    "#### Rename Some Column Headers for Consistancy"
   ]
  },
  {
   "cell_type": "code",
   "execution_count": null,
   "id": "78167df2-eb1f-4d58-bac0-dcb901b72943",
   "metadata": {},
   "outputs": [],
   "source": [
    "med_df.rename(\n",
    "    columns={\"CaseOrder\": \"Case_order\", \"HighBlood\": \"High_blood\", \"BackPain\": \"Back_pain\",\"TotalCharge\": \"Total_charge\", \"Item1\": \"Timely_admission\", \"Item2\": \"Timely_treatment\", \"Item3\": \"Timely_visits\", \"Item4\": \"Reliability\", \"Item5\": \"Options\", \"Item6\": \"Hours_of_treatment\", \"Item7\": \"Courteous_staff\", \"Item8\": \"Active_listening_evidence_from_dr\"},\n",
    "    inplace=True)\n",
    "med_df.head()"
   ]
  },
  {
   "cell_type": "markdown",
   "id": "3156e3a8-c949-4c8d-8e8d-ac095ad7f64e",
   "metadata": {},
   "source": [
    "## PCA: Use Only Series with Int and Float Data Types"
   ]
  },
  {
   "cell_type": "raw",
   "id": "a2536191-8cab-4116-891f-4a4544ec2914",
   "metadata": {},
   "source": [
    "med_df.info(verbose=True)"
   ]
  },
  {
   "cell_type": "code",
   "execution_count": null,
   "id": "738d4a29-daee-47c6-977c-b408870129c3",
   "metadata": {},
   "outputs": [],
   "source": [
    "med_df = med_df[['Zip', 'Lat', 'Lng', 'Population', 'Children', 'Age', 'Income', 'VitD_levels', 'Doc_visits', 'Full_meals_eaten', 'VitD_supp', 'Initial_days', 'Total_charge', 'Additional_charges', 'Timely_admission', 'Timely_treatment', 'Timely_visits', 'Reliability', 'Options', 'Hours_of_treatment', 'Courteous_staff', 'Active_listening_evidence_from_dr']]"
   ]
  },
  {
   "cell_type": "code",
   "execution_count": null,
   "id": "8b6ab795-3530-479f-abe7-4ea058284746",
   "metadata": {},
   "outputs": [],
   "source": [
    "med_df.head()"
   ]
  },
  {
   "cell_type": "markdown",
   "id": "82395fb3-2f46-4463-85a2-cd47fd0c4ea1",
   "metadata": {},
   "source": [
    "### Verify Data Set Contains Numbers and NaNs Removed"
   ]
  },
  {
   "cell_type": "code",
   "execution_count": null,
   "id": "e38a81d5-434b-4daa-9aaa-262fd1230723",
   "metadata": {},
   "outputs": [],
   "source": [
    "med_df.info()"
   ]
  },
  {
   "cell_type": "markdown",
   "id": "b2e12b4c-775e-4ef3-8aba-0b5d4173e143",
   "metadata": {},
   "source": [
    "### Normalize the Data"
   ]
  },
  {
   "cell_type": "code",
   "execution_count": null,
   "id": "94cfa0fa-9283-41ad-9b11-ee01a1507cbf",
   "metadata": {},
   "outputs": [],
   "source": [
    "med_df_normalized = (med_df - med_df.mean()) / med_df.std()"
   ]
  },
  {
   "cell_type": "markdown",
   "id": "98e6dd40-58b4-4b8f-bc88-13e76291f394",
   "metadata": {},
   "source": [
    "#### Import"
   ]
  },
  {
   "cell_type": "code",
   "execution_count": null,
   "id": "2e859f98-7add-4fd6-9cb2-75bac3fd25f6",
   "metadata": {},
   "outputs": [],
   "source": [
    "import matplotlib.pyplot as plt\n",
    "import seaborn as sns"
   ]
  },
  {
   "cell_type": "markdown",
   "id": "99367e3a-96af-4f76-ae38-f105cd241b91",
   "metadata": {},
   "source": [
    "### Choose Number of Components to Extract"
   ]
  },
  {
   "cell_type": "code",
   "execution_count": null,
   "id": "72f9ad59-bf9a-4f9d-bc80-c21a685df341",
   "metadata": {},
   "outputs": [],
   "source": [
    "pca = PCA(n_components = med_df.shape[1])"
   ]
  },
  {
   "cell_type": "markdown",
   "id": "4c5ea0dd-d961-420d-92c3-4447d056ee4e",
   "metadata": {},
   "source": [
    "### Call PCA Application and Create New Data Set of Components"
   ]
  },
  {
   "cell_type": "code",
   "execution_count": null,
   "id": "c7e93442-25e0-4e16-9dbc-edd33458b79d",
   "metadata": {},
   "outputs": [],
   "source": [
    "pca.fit(med_df_normalized)\n",
    "med_df_pca = pd.DataFrame(pca.transform(med_df_normalized),\n",
    "                        columns=['PC1', 'PC2', 'PC3', 'PC4', 'PC5', 'PC6', 'PC7', 'PC8', 'PC9', 'PC10', 'PC11', 'PC12', 'PC13', 'PC14', 'PC15', 'PC16', 'PC17', 'PC18', 'PC19', 'PC20', 'PC21', 'PC22'])"
   ]
  },
  {
   "cell_type": "markdown",
   "id": "d1a75ec5-6ce3-4262-a52f-d4640002a013",
   "metadata": {},
   "source": [
    "### Create Scree Plot"
   ]
  },
  {
   "cell_type": "code",
   "execution_count": null,
   "id": "e9b1686b-c92e-464d-8b81-84cb745ff18e",
   "metadata": {},
   "outputs": [],
   "source": [
    "plt.plot(pca.explained_variance_ratio_)\n",
    "plt.xlabel('number of components')\n",
    "plt.ylabel('explained variance')\n",
    "plt.show()"
   ]
  },
  {
   "cell_type": "code",
   "execution_count": null,
   "id": "e7807c4f-61b0-470a-b6e0-3154cb849c23",
   "metadata": {},
   "outputs": [],
   "source": [
    "cov_matrix=np.dot(med_df_normalized.T, med_df_normalized) / med_df.shape[0]\n",
    "eigenvalues = [np.dot(eigenvector.T, np.dot(cov_matrix, eigenvector)) for eigenvector in pca.components_]"
   ]
  },
  {
   "cell_type": "code",
   "execution_count": null,
   "id": "b6b1e879-2bf9-4c9e-b102-78e29358c820",
   "metadata": {},
   "outputs": [],
   "source": [
    "plt.plot(eigenvalues)\n",
    "plt.xlabel('number of components')\n",
    "plt.ylabel('eigenvalue')\n",
    "# draw horizontal line @1\n",
    "x_coordinates = [0, 21]\n",
    "y_coordinates = [1, 1]\n",
    "# draw vertical line @7\n",
    "x_horizontal = [7,7]\n",
    "y_horizontal = [0,3]\n",
    "plt.plot(x_coordinates, y_coordinates, 'r--', x_horizontal, y_horizontal, 'g--')\n",
    "plt.show()"
   ]
  },
  {
   "cell_type": "markdown",
   "id": "262346b9-4c74-4a7d-9834-ab549fbc2d58",
   "metadata": {},
   "source": [
    "#### Display PCA"
   ]
  },
  {
   "cell_type": "code",
   "execution_count": null,
   "id": "d8aa176b-e9e9-4a7c-bf82-4d3e4fb334ae",
   "metadata": {
    "tags": []
   },
   "outputs": [],
   "source": [
    "loadings = pd.DataFrame(pca.components_.T,\n",
    "            columns=['PC1', 'PC2', 'PC3', 'PC4', 'PC5', 'PC6', 'PC7', 'PC8', 'PC9', 'PC10', 'PC11', 'PC12', 'PC13', 'PC14', 'PC15', 'PC16', 'PC17', 'PC18', 'PC19', 'PC20', 'PC21', 'PC22'],\n",
    "            index=med_df.columns)\n",
    "\n",
    "loadings"
   ]
  },
  {
   "cell_type": "markdown",
   "id": "2bdfb653-9c1b-4b54-bcf5-0f12cdf250a0",
   "metadata": {},
   "source": [
    "### PCAs to Keep"
   ]
  },
  {
   "cell_type": "markdown",
   "id": "9e4205d6-b60f-49ae-b11b-ffebb0c38f28",
   "metadata": {},
   "source": [
    "#### Extract 7 PCA Components"
   ]
  },
  {
   "cell_type": "code",
   "execution_count": null,
   "id": "af8ffa91-83f9-4ce8-94ff-40f0cfddc301",
   "metadata": {},
   "outputs": [],
   "source": [
    "pca_keep = PCA(n_components = 7)"
   ]
  },
  {
   "cell_type": "markdown",
   "id": "a9bcd7ce-3b30-4c26-9d66-e23b817d199e",
   "metadata": {},
   "source": [
    "### Call PCA Application and Create New PCAs to Keep Display"
   ]
  },
  {
   "cell_type": "code",
   "execution_count": null,
   "id": "1686f4ac-9c7b-4459-a8d7-03894a11b97b",
   "metadata": {},
   "outputs": [],
   "source": [
    "pca_keep.fit(med_df_normalized)\n",
    "med_df_pca_keep = pd.DataFrame(pca_keep.transform(med_df_normalized),\n",
    "                        columns=['PC1', 'PC2', 'PC3', 'PC4', 'PC5', 'PC6', 'PC7'])"
   ]
  },
  {
   "cell_type": "code",
   "execution_count": null,
   "id": "34a37579-e290-415a-859d-999664f929a8",
   "metadata": {},
   "outputs": [],
   "source": [
    "loadings = pd.DataFrame(pca_keep.components_.T,\n",
    "            columns=['PC1', 'PC2', 'PC3', 'PC4', 'PC5', 'PC6', 'PC7'],\n",
    "            index=med_df.columns)\n",
    "\n",
    "#Styling - Create heatmap\n",
    "cm = sns.light_palette(\"green\", as_cmap=True)\n",
    "\n",
    "s = loadings.style.background_gradient(cmap=cm, subset=pd.IndexSlice[:, ['PC1', 'PC2', 'PC3', 'PC4', 'PC5', 'PC6', 'PC7']])\n",
    "s"
   ]
  },
  {
   "cell_type": "markdown",
   "id": "c7765347-1122-4af3-ad9b-23992756c950",
   "metadata": {},
   "source": [
    "#### Export Cleaned Data"
   ]
  },
  {
   "cell_type": "code",
   "execution_count": null,
   "id": "6f46fb47-3dc8-4c8c-9d11-05b57b3789d4",
   "metadata": {},
   "outputs": [],
   "source": [
    "med_df.to_csv('medical_raw_cleaned.csv')"
   ]
  }
 ],
 "metadata": {
  "kernelspec": {
   "display_name": "Python 3",
   "language": "python",
   "name": "python3"
  },
  "language_info": {
   "codemirror_mode": {
    "name": "ipython",
    "version": 3
   },
   "file_extension": ".py",
   "mimetype": "text/x-python",
   "name": "python",
   "nbconvert_exporter": "python",
   "pygments_lexer": "ipython3",
   "version": "3.7.6"
  }
 },
 "nbformat": 4,
 "nbformat_minor": 5
}
